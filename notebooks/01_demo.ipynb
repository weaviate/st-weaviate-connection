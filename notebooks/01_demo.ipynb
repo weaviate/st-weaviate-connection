{
 "cells": [
  {
   "attachments": {},
   "cell_type": "markdown",
   "metadata": {},
   "source": [
    "# Introduction"
   ]
  },
  {
   "attachments": {},
   "cell_type": "markdown",
   "metadata": {},
   "source": [
    "This notebook shows how to work with the weaviate streamlit connector."
   ]
  },
  {
   "attachments": {},
   "cell_type": "markdown",
   "metadata": {},
   "source": [
    "# Imports"
   ]
  },
  {
   "cell_type": "code",
   "execution_count": 1,
   "metadata": {},
   "outputs": [
    {
     "data": {
      "text/plain": [
       "True"
      ]
     },
     "execution_count": 1,
     "metadata": {},
     "output_type": "execute_result"
    }
   ],
   "source": [
    "from st_weaviate_connection import WeaviateConnection\n",
    "import streamlit as st\n",
    "import os\n",
    "\n",
    "from dotenv import load_dotenv\n",
    "\n",
    "load_dotenv()"
   ]
  },
  {
   "attachments": {},
   "cell_type": "markdown",
   "metadata": {},
   "source": [
    "# Usage"
   ]
  },
  {
   "attachments": {},
   "cell_type": "markdown",
   "metadata": {},
   "source": [
    "## Making A Connection"
   ]
  },
  {
   "cell_type": "code",
   "execution_count": 2,
   "metadata": {},
   "outputs": [
    {
     "name": "stderr",
     "output_type": "stream",
     "text": [
      "2023-07-27 05:56:08.056 \n",
      "  \u001b[33m\u001b[1mWarning:\u001b[0m to view this Streamlit app on a browser, run it with the following\n",
      "  command:\n",
      "\n",
      "    streamlit run /workspaces/st-weaviate-connection/.venv/lib/python3.11/site-packages/ipykernel_launcher.py [ARGUMENTS]\n"
     ]
    }
   ],
   "source": [
    "conn = st.experimental_connection(\n",
    "    \"weaviate\",\n",
    "    type=WeaviateConnection,\n",
    "    url=os.getenv(\"WEAVIATE_URL\"),\n",
    "    api_key=os.getenv(\"WEAVIATE_API_KEY\"),\n",
    ")"
   ]
  },
  {
   "attachments": {},
   "cell_type": "markdown",
   "metadata": {},
   "source": [
    "## Uploading Data"
   ]
  },
  {
   "attachments": {},
   "cell_type": "markdown",
   "metadata": {},
   "source": [
    "Make up some data:"
   ]
  },
  {
   "cell_type": "code",
   "execution_count": 3,
   "metadata": {},
   "outputs": [],
   "source": [
    "pokemons = [\n",
    "    {\n",
    "        \"name\": \"Pikachu\",\n",
    "        \"type\": \"Electric\",\n",
    "        \"hp\": 35,\n",
    "        \"attack\": 55,\n",
    "        \"defense\": 40,\n",
    "        \"speed\": 90,\n",
    "    },\n",
    "    {\n",
    "        \"name\": \"Charmander\",\n",
    "        \"type\": \"Fire\",\n",
    "        \"hp\": 39,\n",
    "        \"attack\": 52,\n",
    "        \"defense\": 43,\n",
    "        \"speed\": 65,\n",
    "    },\n",
    "    {\n",
    "        \"name\": \"Squirtle\",\n",
    "        \"type\": \"Water\",\n",
    "        \"hp\": 44,\n",
    "        \"attack\": 48,\n",
    "        \"defense\": 65,\n",
    "        \"speed\": 43,\n",
    "    },\n",
    "    {\n",
    "        \"name\": \"Bulbasaur\",\n",
    "        \"type\": \"Grass\",\n",
    "        \"hp\": 45,\n",
    "        \"attack\": 49,\n",
    "        \"defense\": 49,\n",
    "        \"speed\": 45,\n",
    "    },\n",
    "]"
   ]
  },
  {
   "attachments": {},
   "cell_type": "markdown",
   "metadata": {},
   "source": [
    "Use the client to upload the data:"
   ]
  },
  {
   "cell_type": "code",
   "execution_count": 4,
   "metadata": {},
   "outputs": [],
   "source": [
    "with conn.client().batch as batch:\n",
    "    for pokemon in pokemons:\n",
    "        batch.add_data_object(data_object=pokemon, class_name=\"Pokemon\")"
   ]
  },
  {
   "attachments": {},
   "cell_type": "markdown",
   "metadata": {},
   "source": [
    "## Querying Data"
   ]
  },
  {
   "attachments": {},
   "cell_type": "markdown",
   "metadata": {},
   "source": [
    "We can query data using the `query` method which accepts a query straing in graphql:"
   ]
  },
  {
   "cell_type": "code",
   "execution_count": 5,
   "metadata": {},
   "outputs": [
    {
     "name": "stderr",
     "output_type": "stream",
     "text": [
      "2023-07-27 05:56:08.742 No runtime found, using MemoryCacheStorageManager\n",
      "2023-07-27 05:56:08.746 No runtime found, using MemoryCacheStorageManager\n"
     ]
    },
    {
     "data": {
      "text/html": [
       "<div>\n",
       "<style scoped>\n",
       "    .dataframe tbody tr th:only-of-type {\n",
       "        vertical-align: middle;\n",
       "    }\n",
       "\n",
       "    .dataframe tbody tr th {\n",
       "        vertical-align: top;\n",
       "    }\n",
       "\n",
       "    .dataframe thead th {\n",
       "        text-align: right;\n",
       "    }\n",
       "</style>\n",
       "<table border=\"1\" class=\"dataframe\">\n",
       "  <thead>\n",
       "    <tr style=\"text-align: right;\">\n",
       "      <th></th>\n",
       "      <th>attack</th>\n",
       "      <th>name</th>\n",
       "      <th>_additional.score</th>\n",
       "    </tr>\n",
       "  </thead>\n",
       "  <tbody>\n",
       "    <tr>\n",
       "      <th>0</th>\n",
       "      <td>55</td>\n",
       "      <td>Pikachu</td>\n",
       "      <td>0.54726034</td>\n",
       "    </tr>\n",
       "  </tbody>\n",
       "</table>\n",
       "</div>"
      ],
      "text/plain": [
       "   attack     name _additional.score\n",
       "0      55  Pikachu        0.54726034"
      ]
     },
     "execution_count": 5,
     "metadata": {},
     "output_type": "execute_result"
    }
   ],
   "source": [
    "gql = \"\"\"\n",
    "{\n",
    "    Get {\n",
    "        Pokemon(limit: 3, bm25: {query: \"electric\"}) {\n",
    "        name\n",
    "        attack\n",
    "        _additional {\n",
    "            score\n",
    "        }\n",
    "        }\n",
    "    }\n",
    "}\n",
    "\"\"\"\n",
    "\n",
    "df = conn.query(gql)\n",
    "df"
   ]
  },
  {
   "attachments": {},
   "cell_type": "markdown",
   "metadata": {},
   "source": [
    "We can also using the weaviate client's builder pattern:"
   ]
  },
  {
   "cell_type": "code",
   "execution_count": 6,
   "metadata": {},
   "outputs": [
    {
     "data": {
      "text/plain": [
       "{'data': {'Get': {'Pokemon': [{'_additional': {'score': '0.54726034'},\n",
       "     'attack': 55,\n",
       "     'name': 'Pikachu'}]}}}"
      ]
     },
     "execution_count": 6,
     "metadata": {},
     "output_type": "execute_result"
    }
   ],
   "source": [
    "results = conn.client().query.get(\"Pokemon\", [\"name\", \"attack\"])\\\n",
    "    .with_limit(3)\\\n",
    "    .with_additional(\"score\")\\\n",
    "    .with_bm25(query=\"electric\")\\\n",
    "    .do()\n",
    "\n",
    "results"
   ]
  },
  {
   "attachments": {},
   "cell_type": "markdown",
   "metadata": {},
   "source": [
    "## Using Secrets"
   ]
  },
  {
   "attachments": {},
   "cell_type": "markdown",
   "metadata": {},
   "source": [
    "The following are valid values you can specify in your `secrets.toml` file when using this connection:\n",
    "\n",
    "| Config | Description |\n",
    "| --- | --- |\n",
    "| WEAVIATE_URL | The url of the weavite instance you want to connect to |\n",
    "| WEAVIATE_API_KEY | The corresponding api key of the weaviate instance you want to connect to (if applicable) |\n",
    "\n",
    "For more details, refer to:\n",
    "\n",
    "* [How to use secrets management](https://docs.streamlit.io/library/advanced-features/secrets-management#how-to-use-secrets-management)\n",
    "* [st.experimental_connection](https://docs.streamlit.io/library/api-reference/connections/st.experimental_connection#stexperimental_connection)"
   ]
  }
 ],
 "metadata": {
  "kernelspec": {
   "display_name": "Python 3 (ipykernel)",
   "language": "python",
   "name": "python3"
  },
  "language_info": {
   "codemirror_mode": {
    "name": "ipython",
    "version": 3
   },
   "file_extension": ".py",
   "mimetype": "text/x-python",
   "name": "python",
   "nbconvert_exporter": "python",
   "pygments_lexer": "ipython3",
   "version": "3.10.11"
  }
 },
 "nbformat": 4,
 "nbformat_minor": 4
}
